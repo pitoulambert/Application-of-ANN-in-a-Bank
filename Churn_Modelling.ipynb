{
 "cells": [
  {
   "cell_type": "code",
   "execution_count": 1,
   "metadata": {},
   "outputs": [],
   "source": [
    "# Part 1 - Data Preprocesssing\n",
    "\n",
    "# Importing libraries\n",
    "import pandas as pd\n",
    "import numpy as np\n",
    "import matplotlib.pyplot as plt"
   ]
  },
  {
   "cell_type": "code",
   "execution_count": 6,
   "metadata": {},
   "outputs": [
    {
     "name": "stdout",
     "output_type": "stream",
     "text": [
      "x:  [[619 'France' 'Female' ... 1 1 101348.88]\n",
      " [608 'Spain' 'Female' ... 0 1 112542.58]\n",
      " [502 'France' 'Female' ... 1 0 113931.57]\n",
      " ...\n",
      " [709 'France' 'Female' ... 0 1 42085.58]\n",
      " [772 'Germany' 'Male' ... 1 0 92888.52]\n",
      " [792 'France' 'Female' ... 1 0 38190.78]]\n",
      "y : [1 0 1 ... 1 1 0]\n"
     ]
    }
   ],
   "source": [
    "# Importing the dataset\n",
    "dataset = pd.read_csv('Churn_Modelling.csv')\n",
    "X = dataset.iloc[:, 3:13].values\n",
    "y = dataset.iloc[:, 13].values\n",
    "print(\"x: \", X)\n",
    "print(\"y :\", y)"
   ]
  },
  {
   "cell_type": "code",
   "execution_count": 8,
   "metadata": {},
   "outputs": [],
   "source": [
    "# Handling categorical data\n",
    "from sklearn.preprocessing import LabelEncoder, OneHotEncoder\n",
    "labelencoder_X_1 = LabelEncoder()\n",
    "labelencoder_X_2 = LabelEncoder()\n",
    "X[:, 1] = labelencoder_X_1.fit_transform(X[:, 1])\n",
    "X[:, 2] = labelencoder_X_2.fit_transform(X[:, 2])\n",
    "# Dummy Variables\n",
    "onehotencoder = OneHotEncoder(categorical_features = [1])\n",
    "X = onehotencoder.fit_transform(X).toarray()\n",
    "# Avoid falling into a dummy variable track \n",
    "X = X[:, 1:]"
   ]
  },
  {
   "cell_type": "code",
   "execution_count": 9,
   "metadata": {},
   "outputs": [],
   "source": [
    "# Splitting the dataset\n",
    "from sklearn.model_selection import train_test_split\n",
    "X_train, X_test, y_train, y_test = train_test_split(X, y, test_size = 0.2,\n",
    "                                                    random_state = 0)"
   ]
  },
  {
   "cell_type": "code",
   "execution_count": 10,
   "metadata": {},
   "outputs": [],
   "source": [
    "# Feature Scaling\n",
    "from sklearn.preprocessing import StandardScaler\n",
    "sc = StandardScaler()\n",
    "X_train = sc.fit_transform(X_train)\n",
    "X_test = sc.transform(X_test)\n"
   ]
  },
  {
   "cell_type": "code",
   "execution_count": 11,
   "metadata": {},
   "outputs": [
    {
     "name": "stderr",
     "output_type": "stream",
     "text": [
      "C:\\Users\\Pitou\\Anaconda3\\lib\\site-packages\\h5py\\__init__.py:36: FutureWarning: Conversion of the second argument of issubdtype from `float` to `np.floating` is deprecated. In future, it will be treated as `np.float64 == np.dtype(float).type`.\n",
      "  from ._conv import register_converters as _register_converters\n",
      "Using TensorFlow backend.\n"
     ]
    }
   ],
   "source": [
    "# Part 2 - Make an ANN\n",
    "\n",
    "# Importing the keras library\n",
    "import keras\n",
    "from keras.models import Sequential\n",
    "from keras.layers import Dense\n"
   ]
  },
  {
   "cell_type": "code",
   "execution_count": 12,
   "metadata": {},
   "outputs": [
    {
     "name": "stderr",
     "output_type": "stream",
     "text": [
      "C:\\Users\\Pitou\\Anaconda3\\lib\\site-packages\\ipykernel_launcher.py:5: UserWarning: Update your `Dense` call to the Keras 2 API: `Dense(activation=\"relu\", input_dim=11, units=6, kernel_initializer=\"uniform\")`\n",
      "  \"\"\"\n",
      "C:\\Users\\Pitou\\Anaconda3\\lib\\site-packages\\ipykernel_launcher.py:8: UserWarning: Update your `Dense` call to the Keras 2 API: `Dense(activation=\"relu\", units=6, kernel_initializer=\"uniform\")`\n",
      "  \n",
      "C:\\Users\\Pitou\\Anaconda3\\lib\\site-packages\\ipykernel_launcher.py:11: UserWarning: Update your `Dense` call to the Keras 2 API: `Dense(activation=\"sigmoid\", units=1, kernel_initializer=\"uniform\")`\n",
      "  # This is added back by InteractiveShellApp.init_path()\n",
      "C:\\Users\\Pitou\\Anaconda3\\lib\\site-packages\\ipykernel_launcher.py:17: UserWarning: The `nb_epoch` argument in `fit` has been renamed `epochs`.\n"
     ]
    },
    {
     "name": "stdout",
     "output_type": "stream",
     "text": [
      "Epoch 1/100\n",
      "8000/8000 [==============================] - 4s 444us/step - loss: 0.4842 - acc: 0.7945\n",
      "Epoch 2/100\n",
      "8000/8000 [==============================] - 1s 146us/step - loss: 0.4273 - acc: 0.7960\n",
      "Epoch 3/100\n",
      "8000/8000 [==============================] - 1s 147us/step - loss: 0.4209 - acc: 0.8182\n",
      "Epoch 4/100\n",
      "8000/8000 [==============================] - 1s 143us/step - loss: 0.4144 - acc: 0.8287\n",
      "Epoch 5/100\n",
      "8000/8000 [==============================] - 1s 138us/step - loss: 0.4112 - acc: 0.8314\n",
      "Epoch 6/100\n",
      "8000/8000 [==============================] - 1s 142us/step - loss: 0.4078 - acc: 0.8326\n",
      "Epoch 7/100\n",
      "8000/8000 [==============================] - 1s 143us/step - loss: 0.4056 - acc: 0.8327\n",
      "Epoch 8/100\n",
      "8000/8000 [==============================] - 1s 147us/step - loss: 0.4037 - acc: 0.8340\n",
      "Epoch 9/100\n",
      "8000/8000 [==============================] - 1s 145us/step - loss: 0.4025 - acc: 0.8355\n",
      "Epoch 10/100\n",
      "8000/8000 [==============================] - 1s 149us/step - loss: 0.4016 - acc: 0.8342\n",
      "Epoch 11/100\n",
      "8000/8000 [==============================] - 1s 144us/step - loss: 0.4013 - acc: 0.8345\n",
      "Epoch 12/100\n",
      "8000/8000 [==============================] - 1s 147us/step - loss: 0.4002 - acc: 0.8345\n",
      "Epoch 13/100\n",
      "8000/8000 [==============================] - 1s 146us/step - loss: 0.3992 - acc: 0.8354\n",
      "Epoch 14/100\n",
      "8000/8000 [==============================] - 1s 145us/step - loss: 0.3991 - acc: 0.8359\n",
      "Epoch 15/100\n",
      "8000/8000 [==============================] - 1s 147us/step - loss: 0.3983 - acc: 0.8344\n",
      "Epoch 16/100\n",
      "8000/8000 [==============================] - 1s 147us/step - loss: 0.3980 - acc: 0.8350\n",
      "Epoch 17/100\n",
      "8000/8000 [==============================] - 1s 146us/step - loss: 0.3981 - acc: 0.8355\n",
      "Epoch 18/100\n",
      "8000/8000 [==============================] - 1s 153us/step - loss: 0.3974 - acc: 0.8356\n",
      "Epoch 19/100\n",
      "8000/8000 [==============================] - 1s 149us/step - loss: 0.3970 - acc: 0.8374\n",
      "Epoch 20/100\n",
      "8000/8000 [==============================] - 1s 147us/step - loss: 0.3975 - acc: 0.8345\n",
      "Epoch 21/100\n",
      "8000/8000 [==============================] - 1s 151us/step - loss: 0.3964 - acc: 0.8354\n",
      "Epoch 22/100\n",
      "8000/8000 [==============================] - 1s 160us/step - loss: 0.3968 - acc: 0.8361\n",
      "Epoch 23/100\n",
      "8000/8000 [==============================] - 1s 156us/step - loss: 0.3965 - acc: 0.8344\n",
      "Epoch 24/100\n",
      "8000/8000 [==============================] - 1s 159us/step - loss: 0.3961 - acc: 0.8361\n",
      "Epoch 25/100\n",
      "8000/8000 [==============================] - 1s 155us/step - loss: 0.3960 - acc: 0.8352\n",
      "Epoch 26/100\n",
      "8000/8000 [==============================] - 1s 161us/step - loss: 0.3952 - acc: 0.8347\n",
      "Epoch 27/100\n",
      "8000/8000 [==============================] - 1s 160us/step - loss: 0.3953 - acc: 0.8366\n",
      "Epoch 28/100\n",
      "8000/8000 [==============================] - 1s 178us/step - loss: 0.3952 - acc: 0.8342\n",
      "Epoch 29/100\n",
      "8000/8000 [==============================] - 1s 156us/step - loss: 0.3953 - acc: 0.8355\n",
      "Epoch 30/100\n",
      "8000/8000 [==============================] - 1s 171us/step - loss: 0.3952 - acc: 0.8364\n",
      "Epoch 31/100\n",
      "8000/8000 [==============================] - 1s 162us/step - loss: 0.3946 - acc: 0.8344\n",
      "Epoch 32/100\n",
      "8000/8000 [==============================] - 1s 179us/step - loss: 0.3958 - acc: 0.8352\n",
      "Epoch 33/100\n",
      "8000/8000 [==============================] - 1s 174us/step - loss: 0.3950 - acc: 0.8351\n",
      "Epoch 34/100\n",
      "8000/8000 [==============================] - 1s 162us/step - loss: 0.3945 - acc: 0.8352\n",
      "Epoch 35/100\n",
      "8000/8000 [==============================] - 1s 154us/step - loss: 0.3951 - acc: 0.8346\n",
      "Epoch 36/100\n",
      "8000/8000 [==============================] - 1s 153us/step - loss: 0.3943 - acc: 0.8371\n",
      "Epoch 37/100\n",
      "8000/8000 [==============================] - 1s 150us/step - loss: 0.3942 - acc: 0.8361\n",
      "Epoch 38/100\n",
      "8000/8000 [==============================] - 1s 153us/step - loss: 0.3943 - acc: 0.8359\n",
      "Epoch 39/100\n",
      "8000/8000 [==============================] - 1s 153us/step - loss: 0.3941 - acc: 0.8364\n",
      "Epoch 40/100\n",
      "8000/8000 [==============================] - 1s 152us/step - loss: 0.3942 - acc: 0.8350\n",
      "Epoch 41/100\n",
      "8000/8000 [==============================] - 1s 155us/step - loss: 0.3942 - acc: 0.8370\n",
      "Epoch 42/100\n",
      "8000/8000 [==============================] - 1s 158us/step - loss: 0.3945 - acc: 0.8359\n",
      "Epoch 43/100\n",
      "8000/8000 [==============================] - 1s 162us/step - loss: 0.3937 - acc: 0.8355\n",
      "Epoch 44/100\n",
      "8000/8000 [==============================] - 1s 156us/step - loss: 0.3940 - acc: 0.8356\n",
      "Epoch 45/100\n",
      "8000/8000 [==============================] - 1s 170us/step - loss: 0.3939 - acc: 0.8352\n",
      "Epoch 46/100\n",
      "8000/8000 [==============================] - 1s 186us/step - loss: 0.3933 - acc: 0.8355\n",
      "Epoch 47/100\n",
      "8000/8000 [==============================] - 1s 164us/step - loss: 0.3940 - acc: 0.8379\n",
      "Epoch 48/100\n",
      "8000/8000 [==============================] - 1s 160us/step - loss: 0.3940 - acc: 0.8341\n",
      "Epoch 49/100\n",
      "8000/8000 [==============================] - 1s 172us/step - loss: 0.3934 - acc: 0.8350\n",
      "Epoch 50/100\n",
      "8000/8000 [==============================] - 1s 171us/step - loss: 0.3930 - acc: 0.8360\n",
      "Epoch 51/100\n",
      "8000/8000 [==============================] - 1s 176us/step - loss: 0.3930 - acc: 0.8365\n",
      "Epoch 52/100\n",
      "8000/8000 [==============================] - 1s 141us/step - loss: 0.3935 - acc: 0.8367\n",
      "Epoch 53/100\n",
      "8000/8000 [==============================] - 1s 134us/step - loss: 0.3931 - acc: 0.8371\n",
      "Epoch 54/100\n",
      "8000/8000 [==============================] - 1s 130us/step - loss: 0.3930 - acc: 0.8357\n",
      "Epoch 55/100\n",
      "8000/8000 [==============================] - 1s 130us/step - loss: 0.3931 - acc: 0.8357\n",
      "Epoch 56/100\n",
      "8000/8000 [==============================] - 1s 151us/step - loss: 0.3930 - acc: 0.8367\n",
      "Epoch 57/100\n",
      "8000/8000 [==============================] - 1s 139us/step - loss: 0.3926 - acc: 0.8375\n",
      "Epoch 58/100\n",
      "8000/8000 [==============================] - 1s 185us/step - loss: 0.3932 - acc: 0.8361\n",
      "Epoch 59/100\n",
      "8000/8000 [==============================] - 1s 180us/step - loss: 0.3932 - acc: 0.8364\n",
      "Epoch 60/100\n",
      "8000/8000 [==============================] - 1s 163us/step - loss: 0.3935 - acc: 0.8366\n",
      "Epoch 61/100\n",
      "8000/8000 [==============================] - 1s 160us/step - loss: 0.3932 - acc: 0.8352\n",
      "Epoch 62/100\n",
      "8000/8000 [==============================] - 1s 135us/step - loss: 0.3931 - acc: 0.8359\n",
      "Epoch 63/100\n",
      "8000/8000 [==============================] - 1s 146us/step - loss: 0.3930 - acc: 0.8355\n",
      "Epoch 64/100\n",
      "8000/8000 [==============================] - 1s 155us/step - loss: 0.3932 - acc: 0.8356\n",
      "Epoch 65/100\n",
      "8000/8000 [==============================] - 1s 138us/step - loss: 0.3935 - acc: 0.8350\n",
      "Epoch 66/100\n",
      "8000/8000 [==============================] - 1s 136us/step - loss: 0.3928 - acc: 0.8357\n",
      "Epoch 67/100\n",
      "8000/8000 [==============================] - 1s 149us/step - loss: 0.3931 - acc: 0.8355\n",
      "Epoch 68/100\n",
      "8000/8000 [==============================] - 1s 141us/step - loss: 0.3933 - acc: 0.8349\n",
      "Epoch 69/100\n",
      "8000/8000 [==============================] - 1s 134us/step - loss: 0.3923 - acc: 0.8362\n",
      "Epoch 70/100\n",
      "8000/8000 [==============================] - 1s 133us/step - loss: 0.3931 - acc: 0.8345\n",
      "Epoch 71/100\n",
      "8000/8000 [==============================] - 1s 127us/step - loss: 0.3927 - acc: 0.8354\n",
      "Epoch 72/100\n",
      "8000/8000 [==============================] - 1s 123us/step - loss: 0.3925 - acc: 0.8354\n",
      "Epoch 73/100\n",
      "8000/8000 [==============================] - 1s 128us/step - loss: 0.3930 - acc: 0.8354\n",
      "Epoch 74/100\n",
      "8000/8000 [==============================] - 1s 125us/step - loss: 0.3922 - acc: 0.8357\n",
      "Epoch 75/100\n",
      "8000/8000 [==============================] - 1s 131us/step - loss: 0.3934 - acc: 0.8346\n",
      "Epoch 76/100\n",
      "8000/8000 [==============================] - 1s 128us/step - loss: 0.3927 - acc: 0.8359\n",
      "Epoch 77/100\n",
      "8000/8000 [==============================] - 1s 125us/step - loss: 0.3929 - acc: 0.8372\n",
      "Epoch 78/100\n",
      "8000/8000 [==============================] - 1s 125us/step - loss: 0.3929 - acc: 0.8365\n",
      "Epoch 79/100\n",
      "8000/8000 [==============================] - 1s 126us/step - loss: 0.3927 - acc: 0.8359\n",
      "Epoch 80/100\n",
      "8000/8000 [==============================] - 1s 159us/step - loss: 0.3925 - acc: 0.8356\n",
      "Epoch 81/100\n",
      "8000/8000 [==============================] - 1s 134us/step - loss: 0.3933 - acc: 0.8360\n",
      "Epoch 82/100\n"
     ]
    },
    {
     "name": "stdout",
     "output_type": "stream",
     "text": [
      "8000/8000 [==============================] - 1s 130us/step - loss: 0.3930 - acc: 0.8350\n",
      "Epoch 83/100\n",
      "8000/8000 [==============================] - 1s 149us/step - loss: 0.3927 - acc: 0.8349\n",
      "Epoch 84/100\n",
      "8000/8000 [==============================] - 1s 143us/step - loss: 0.3928 - acc: 0.8342\n",
      "Epoch 85/100\n",
      "8000/8000 [==============================] - 1s 132us/step - loss: 0.3927 - acc: 0.8366\n",
      "Epoch 86/100\n",
      "8000/8000 [==============================] - 1s 124us/step - loss: 0.3930 - acc: 0.8366\n",
      "Epoch 87/100\n",
      "8000/8000 [==============================] - 1s 123us/step - loss: 0.3927 - acc: 0.8351\n",
      "Epoch 88/100\n",
      "8000/8000 [==============================] - 1s 146us/step - loss: 0.3932 - acc: 0.8351\n",
      "Epoch 89/100\n",
      "8000/8000 [==============================] - 1s 125us/step - loss: 0.3925 - acc: 0.8371\n",
      "Epoch 90/100\n",
      "8000/8000 [==============================] - 1s 129us/step - loss: 0.3925 - acc: 0.8359\n",
      "Epoch 91/100\n",
      "8000/8000 [==============================] - 1s 128us/step - loss: 0.3926 - acc: 0.8349\n",
      "Epoch 92/100\n",
      "8000/8000 [==============================] - 1s 123us/step - loss: 0.3924 - acc: 0.8350\n",
      "Epoch 93/100\n",
      "8000/8000 [==============================] - 1s 125us/step - loss: 0.3931 - acc: 0.8340\n",
      "Epoch 94/100\n",
      "8000/8000 [==============================] - 1s 132us/step - loss: 0.3919 - acc: 0.8379\n",
      "Epoch 95/100\n",
      "8000/8000 [==============================] - 1s 125us/step - loss: 0.3930 - acc: 0.8355\n",
      "Epoch 96/100\n",
      "8000/8000 [==============================] - 1s 156us/step - loss: 0.3920 - acc: 0.8357\n",
      "Epoch 97/100\n",
      "8000/8000 [==============================] - 1s 124us/step - loss: 0.3928 - acc: 0.8354\n",
      "Epoch 98/100\n",
      "8000/8000 [==============================] - 1s 123us/step - loss: 0.3927 - acc: 0.8381\n",
      "Epoch 99/100\n",
      "8000/8000 [==============================] - 1s 121us/step - loss: 0.3927 - acc: 0.8347\n",
      "Epoch 100/100\n",
      "8000/8000 [==============================] - 1s 122us/step - loss: 0.3926 - acc: 0.8355\n"
     ]
    },
    {
     "data": {
      "text/plain": [
       "<keras.callbacks.History at 0x1bcd97f2630>"
      ]
     },
     "execution_count": 12,
     "metadata": {},
     "output_type": "execute_result"
    }
   ],
   "source": [
    "# Initialising the ANN\n",
    "classifier = Sequential()\n",
    "\n",
    "# Adding the input and the fisrt hidden layer\n",
    "classifier.add(Dense(output_dim = 6, init = 'uniform', activation = 'relu', input_dim = 11))\n",
    "\n",
    "# Adding the second hidden layer\n",
    "classifier.add(Dense(output_dim = 6, init = 'uniform', activation = 'relu'))\n",
    "\n",
    "# Adding the output layer\n",
    "classifier.add(Dense(output_dim = 1, init = 'uniform', activation = 'sigmoid'))\n",
    "\n",
    "# Compiling the ANN\n",
    "classifier.compile(optimizer = 'adam', loss = 'binary_crossentropy', metrics =['accuracy'])\n",
    "\n",
    "# Fitting the ANN to the training data\n",
    "classifier.fit(X_train, y_train, batch_size = 10, nb_epoch = 100)"
   ]
  },
  {
   "cell_type": "code",
   "execution_count": 14,
   "metadata": {},
   "outputs": [
    {
     "name": "stdout",
     "output_type": "stream",
     "text": [
      "[[False]\n",
      " [False]\n",
      " [False]\n",
      " ...\n",
      " [False]\n",
      " [False]\n",
      " [False]]\n"
     ]
    }
   ],
   "source": [
    "# Predictions of the test set\n",
    "y_pred = classifier.predict(X_test)\n",
    "y_pred = (y_pred > 0.5)\n",
    "print(y_pred)"
   ]
  },
  {
   "cell_type": "code",
   "execution_count": 15,
   "metadata": {},
   "outputs": [
    {
     "name": "stdout",
     "output_type": "stream",
     "text": [
      "[[False]]\n"
     ]
    }
   ],
   "source": [
    "\"\"\"Predict if the customer with the following informations will leave the bank:\n",
    "Geography: France\n",
    "Credit Score: 600\n",
    "Gender: Male\n",
    "Age: 40\n",
    "Tenure: 3\n",
    "Balance: 60000\n",
    "Number of Products: 2\n",
    "Has Credit Card: Yes\n",
    "Is Active Member: Yes\n",
    "Estimated Salary: 50000\"\"\"\n",
    "new_prediction = classifier.predict(sc.transform(np.array([[0.0, 0, 600, 1, 40, 3, 60000, 2, 1, 1, 50000]])))\n",
    "new_prediction = (new_prediction > 0.5)\n",
    "print(new_prediction)"
   ]
  }
 ],
 "metadata": {
  "kernelspec": {
   "display_name": "Python 3",
   "language": "python",
   "name": "python3"
  },
  "language_info": {
   "codemirror_mode": {
    "name": "ipython",
    "version": 3
   },
   "file_extension": ".py",
   "mimetype": "text/x-python",
   "name": "python",
   "nbconvert_exporter": "python",
   "pygments_lexer": "ipython3",
   "version": "3.6.5"
  }
 },
 "nbformat": 4,
 "nbformat_minor": 2
}
